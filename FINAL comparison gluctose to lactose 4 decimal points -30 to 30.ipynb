{
 "cells": [
  {
   "cell_type": "code",
   "execution_count": 5,
   "id": "capital-array",
   "metadata": {},
   "outputs": [],
   "source": [
    "import numpy as np\n",
    "import pandas as pd\n",
    "import cobra.test\n",
    "import os\n",
    "\n",
    "from os.path import join\n",
    "\n",
    "from time import time\n",
    "\n",
    "\n",
    "from cobra.flux_analysis import (\n",
    "    single_gene_deletion, single_reaction_deletion, double_gene_deletion,\n",
    "    double_reaction_deletion)\n",
    "\n",
    "import cobra\n",
    "from cobra.test import create_test_model\n",
    "cobra_config = cobra.Configuration()\n",
    "cobra_config.solver = \"gurobi\"\n",
    "model = create_test_model(\"textbook\")\n",
    "model.solver\n",
    "\n",
    "a = cobra.io.read_sbml_model(\"iEC1344_C.xml\")\n"
   ]
  },
  {
   "cell_type": "code",
   "execution_count": 6,
   "id": "70f4ff93",
   "metadata": {},
   "outputs": [
    {
     "data": {
      "text/html": [
       "<div>\n",
       "<style scoped>\n",
       "    .dataframe tbody tr th:only-of-type {\n",
       "        vertical-align: middle;\n",
       "    }\n",
       "\n",
       "    .dataframe tbody tr th {\n",
       "        vertical-align: top;\n",
       "    }\n",
       "\n",
       "    .dataframe thead th {\n",
       "        text-align: right;\n",
       "    }\n",
       "</style>\n",
       "<table border=\"1\" class=\"dataframe\">\n",
       "  <thead>\n",
       "    <tr style=\"text-align: right;\">\n",
       "      <th></th>\n",
       "      <th>Reaction names</th>\n",
       "    </tr>\n",
       "  </thead>\n",
       "  <tbody>\n",
       "  </tbody>\n",
       "</table>\n",
       "</div>"
      ],
      "text/plain": [
       "Empty DataFrame\n",
       "Columns: [Reaction names]\n",
       "Index: []"
      ]
     },
     "execution_count": 6,
     "metadata": {},
     "output_type": "execute_result"
    }
   ],
   "source": [
    "category= pd.read_csv('Names of all reaction categories -30 to 30.csv')\n",
    "category.iloc[0,0]\n",
    "csvFile = pd.read_csv(\"{}.csv\".format(category.iloc[0,0]))\n",
    "\n",
    "D= pd.DataFrame (columns = ['Reaction names'])\n",
    "\n",
    "csvFile2 = pd.read_csv(\"{} lactose.csv\".format(category.iloc[0,0]))\n",
    "\n",
    "D1= pd.DataFrame (csvFile, columns = ['Reaction names'])\n",
    "D2= pd.DataFrame (csvFile2, columns = ['Reaction names'])\n",
    "b= D1.iloc[:, 0]\n",
    "c= D2.iloc[:, 0]\n",
    "\n",
    "union = pd.Series(np.union1d(b, c))\n",
    "intersect = pd.Series(np.intersect1d(b, c))\n",
    "bigb2= union[~union.isin(intersect)]\n",
    "bigb2\n",
    "\n",
    "D2= pd.DataFrame (bigb2, columns = ['Reaction names'])\n",
    "frames = [D, D2]\n",
    "D = pd.concat(frames)\n",
    "D\n"
   ]
  },
  {
   "cell_type": "code",
   "execution_count": 9,
   "id": "f4f5f762",
   "metadata": {},
   "outputs": [],
   "source": [
    "category= pd.read_csv('Names of all reaction categories -30 to 30.csv')\n",
    "D= pd.DataFrame (columns = ['Reaction names'])\n",
    "i= 0\n",
    "\n",
    "while i<len(category):\n",
    "    \n",
    "    csvFile = pd.read_csv(\"{}.csv\".format(category.iloc[i,0]))\n",
    "    csvFile2 = pd.read_csv(\"{} lactose.csv\".format(category.iloc[i,0]))\n",
    "    D1= pd.DataFrame (csvFile, columns = ['Reaction names'])\n",
    "    D2= pd.DataFrame (csvFile2, columns = ['Reaction names'])\n",
    "    b= D1.iloc[:, 0]\n",
    "    c= D2.iloc[:, 0]\n",
    "\n",
    "    union = pd.Series(np.union1d(b, c))\n",
    "    intersect = pd.Series(np.intersect1d(b, c))\n",
    "    bigb2= union[~union.isin(intersect)]\n",
    "    bigb2\n",
    "\n",
    "    D2= pd.DataFrame (bigb2, columns = ['Reaction names'])\n",
    "    frames = [D, D2]\n",
    "    D = pd.concat(frames)\n",
    "\n",
    "    i= i+1\n",
    "\n",
    "D= D.drop_duplicates()\n",
    "D.to_csv(\"FINAL different reactions glu vs lac 4 decimals -30 to 30.csv\")\n"
   ]
  },
  {
   "cell_type": "code",
   "execution_count": null,
   "id": "alien-borough",
   "metadata": {},
   "outputs": [],
   "source": []
  }
 ],
 "metadata": {
  "kernelspec": {
   "display_name": "Python 3",
   "language": "python",
   "name": "python3"
  },
  "language_info": {
   "codemirror_mode": {
    "name": "ipython",
    "version": 3
   },
   "file_extension": ".py",
   "mimetype": "text/x-python",
   "name": "python",
   "nbconvert_exporter": "python",
   "pygments_lexer": "ipython3",
   "version": "3.8.3"
  }
 },
 "nbformat": 4,
 "nbformat_minor": 5
}
